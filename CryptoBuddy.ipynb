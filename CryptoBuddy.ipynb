{
  "nbformat": 4,
  "nbformat_minor": 0,
  "metadata": {
    "colab": {
      "provenance": [],
      "toc_visible": true,
      "authorship_tag": "ABX9TyNJf1PbhsBZ4OlCVTrpjqRG",
      "include_colab_link": true
    },
    "kernelspec": {
      "name": "python3",
      "display_name": "Python 3"
    },
    "language_info": {
      "name": "python"
    }
  },
  "cells": [
    {
      "cell_type": "markdown",
      "metadata": {
        "id": "view-in-github",
        "colab_type": "text"
      },
      "source": [
        "<a href=\"https://colab.research.google.com/github/lenny1-ux/My_work/blob/main/CryptoBuddy.ipynb\" target=\"_parent\"><img src=\"https://colab.research.google.com/assets/colab-badge.svg\" alt=\"Open In Colab\"/></a>"
      ]
    },
    {
      "cell_type": "code",
      "execution_count": null,
      "metadata": {
        "colab": {
          "base_uri": "https://localhost:8080/"
        },
        "id": "Z5mTNx3ch6RQ",
        "outputId": "ca583c57-6770-421e-82d2-6b793bdf288a"
      },
      "outputs": [
        {
          "output_type": "stream",
          "name": "stdout",
          "text": [
            "👋 Hey there! I’m CryptoBuddy – your first AI-powered financial sidekick!\n",
            "Ask me things like 'Which crypto is trending up?' or 'What’s the most sustainable coin?' 💹🌱\n",
            "\n"
          ]
        }
      ],
      "source": [
        "# 👋 Welcome to CryptoBuddy – Your First AI-Powered Financial Sidekick!\n",
        "\n",
        "# Step 1: Define chatbot personality\n",
        "def greet_user():\n",
        "    print(\"👋 Hey there! I’m CryptoBuddy – your first AI-powered financial sidekick!\")\n",
        "    print(\"Ask me things like 'Which crypto is trending up?' or 'What’s the most sustainable coin?' 💹🌱\\n\")\n",
        "\n",
        "# Step 2: Define a simple crypto database\n",
        "crypto_db = {\n",
        "    \"Bitcoin\": {\n",
        "        \"price_trend\": \"rising\",\n",
        "        \"market_cap\": \"high\",\n",
        "        \"energy_use\": \"high\",\n",
        "        \"sustainability_score\": 3/10\n",
        "    },\n",
        "    \"Ethereum\": {\n",
        "        \"price_trend\": \"stable\",\n",
        "        \"market_cap\": \"high\",\n",
        "        \"energy_use\": \"medium\",\n",
        "        \"sustainability_score\": 6/10\n",
        "    },\n",
        "    \"Cardano\": {\n",
        "        \"price_trend\": \"rising\",\n",
        "        \"market_cap\": \"medium\",\n",
        "        \"energy_use\": \"low\",\n",
        "        \"sustainability_score\": 8/10\n",
        "    }\n",
        "}\n",
        "\n",
        "# Step 3: Chatbot logic\n",
        "def respond_to_query(user_query):\n",
        "    user_query = user_query.lower()\n",
        "\n",
        "    if \"sustainable\" in user_query:\n",
        "        best = max(crypto_db, key=lambda x: crypto_db[x][\"sustainability_score\"])\n",
        "        print(f\"🌱 Invest in {best}! It’s eco-friendly and has long-term potential!\")\n",
        "\n",
        "    elif \"trending\" in user_query or \"rising\" in user_query:\n",
        "        trending = [coin for coin in crypto_db if crypto_db[coin][\"price_trend\"] == \"rising\"]\n",
        "        print(f\"📈 These cryptos are trending up: {', '.join(trending)}\")\n",
        "\n",
        "    elif \"profitable\" in user_query or \"best investment\" in user_query:\n",
        "        profitable = [coin for coin in crypto_db if crypto_db[coin][\"price_trend\"] == \"rising\" and crypto_db[coin][\"market_cap\"] == \"high\"]\n",
        "        if profitable:\n",
        "            print(f\"💰 Consider {', '.join(profitable)} – high market cap and price rising!\")\n",
        "        else:\n",
        "            print(\"🤷‍♂️ No coin matches both profitability conditions right now.\")\n",
        "\n",
        "    elif \"exit\" in user_query:\n",
        "        print(\"👋 See you next time! Stay smart with your investments!\")\n",
        "        return False\n",
        "\n",
        "    else:\n",
        "        print(\"❓ Sorry, I didn’t get that. Try asking about trends, sustainability, or profitability.\")\n",
        "\n",
        "    return True\n",
        "\n",
        "# Step 4: Run chatbot loop\n",
        "def run_bot():\n",
        "    greet_user()\n",
        "    running = True\n",
        "    while running:\n",
        "        user_input = input(\"You: \")\n",
        "        running = respond_to_query(user_input)\n",
        "\n",
        "# Step 5: Run\n",
        "run_bot()\n",
        "\n"
      ]
    }
  ]
}